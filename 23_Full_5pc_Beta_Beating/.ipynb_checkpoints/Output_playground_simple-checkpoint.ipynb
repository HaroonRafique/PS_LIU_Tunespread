{
 "cells": [
  {
   "cell_type": "markdown",
   "metadata": {},
   "source": [
    "# 23: LIU Tunespread Full Scan"
   ]
  },
  {
   "cell_type": "markdown",
   "metadata": {},
   "source": [
    "## 5% beta-beating applied as distributed quadrupole error on 20 QFN LEQs"
   ]
  },
  {
   "cell_type": "code",
   "execution_count": 1,
   "metadata": {},
   "outputs": [],
   "source": [
    "import imageio\n",
    "import pickle\n",
    "import pandas as pd\n",
    "import numpy as np\n",
    "import PyNAFF as pnf\n",
    "import scipy.io as sio \n",
    "import matplotlib.cm as cm\n",
    "from math import log10, floor\n",
    "import matplotlib\n",
    "import matplotlib.pyplot as plt\n",
    "from matplotlib.lines import Line2D\n",
    "from matplotlib.patches import Patch\n",
    "from scipy.optimize import curve_fit"
   ]
  },
  {
   "cell_type": "markdown",
   "metadata": {},
   "source": [
    "### Figure parameters"
   ]
  },
  {
   "cell_type": "code",
   "execution_count": 2,
   "metadata": {},
   "outputs": [],
   "source": [
    "plt.rcParams['figure.figsize'] = [5.0, 5.0]\n",
    "plt.rcParams['figure.dpi'] = 200\n",
    "plt.rcParams['savefig.dpi'] = 200\n",
    "\n",
    "plt.rcParams['font.size'] = 10\n",
    "plt.rcParams['legend.fontsize'] = 'small'\n",
    "plt.rcParams['lines.linewidth'] = 1.5"
   ]
  },
  {
   "cell_type": "markdown",
   "metadata": {},
   "source": [
    "### Function Declarations"
   ]
  },
  {
   "cell_type": "code",
   "execution_count": 3,
   "metadata": {},
   "outputs": [],
   "source": [
    "def harmonic_fn(x, a, b, c, d):\n",
    "    return a + b*np.cos(c + 2*np.pi*d*x)\n",
    "\n",
    "def quadratic(x, a, m, c):\n",
    "    return a*x**2 + x*m + c\n",
    "\n",
    "def quadratic(x, a, m, c):\n",
    "    return a*x**2 + x*m + c\n",
    "\n",
    "def Md_fit(x, a, b, c, d):\n",
    "        return a + b*np.cos(c*x+d)\n",
    "    \n",
    "def Md_ramp_fit(x, a, b, c, d):\n",
    "    return a + b*(x-1)*np.cos(c*(x-1)+d)\n",
    "\n",
    "def round_sig(x, sig=4):\n",
    "    return round(x, sig-int(floor(log10(abs(x))))-1)"
   ]
  },
  {
   "cell_type": "code",
   "execution_count": 4,
   "metadata": {},
   "outputs": [],
   "source": [
    "def add_input_file(dd, filename, label):\n",
    "\tf = filename\n",
    "\tp = dict()\n",
    "\tsio.loadmat(f, mdict=p)\n",
    "\tdd[label] = p\t\n",
    "\tprint '\\tAdded output data from ', filename, '\\t dictionary key: ', label\n",
    "\treturn dd"
   ]
  },
  {
   "cell_type": "markdown",
   "metadata": {},
   "source": [
    "## Import Data"
   ]
  },
  {
   "cell_type": "code",
   "execution_count": 5,
   "metadata": {},
   "outputs": [
    {
     "ename": "TypeError",
     "evalue": "'NoneType' object is not iterable",
     "output_type": "error",
     "traceback": [
      "\u001b[0;31m---------------------------------------------------------------------------\u001b[0m",
      "\u001b[0;31mTypeError\u001b[0m                                 Traceback (most recent call last)",
      "\u001b[0;32m<ipython-input-5-90553e170e0c>\u001b[0m in \u001b[0;36m<module>\u001b[0;34m()\u001b[0m\n\u001b[1;32m      4\u001b[0m \u001b[0mdd3\u001b[0m \u001b[0;34m=\u001b[0m \u001b[0mdict\u001b[0m\u001b[0;34m(\u001b[0m\u001b[0;34m)\u001b[0m\u001b[0;34m\u001b[0m\u001b[0m\n\u001b[1;32m      5\u001b[0m \u001b[0;34m\u001b[0m\u001b[0m\n\u001b[0;32m----> 6\u001b[0;31m \u001b[0mdd3\u001b[0m \u001b[0;34m=\u001b[0m \u001b[0madd_input_file\u001b[0m\u001b[0;34m(\u001b[0m\u001b[0mdd3\u001b[0m\u001b[0;34m,\u001b[0m \u001b[0;34m'Run2_Standard/output/output.mat'\u001b[0m\u001b[0;34m,\u001b[0m \u001b[0;34m'Run2 Std'\u001b[0m\u001b[0;34m)\u001b[0m\u001b[0;34m\u001b[0m\u001b[0m\n\u001b[0m\u001b[1;32m      7\u001b[0m \u001b[0mdd3\u001b[0m \u001b[0;34m=\u001b[0m \u001b[0madd_input_file\u001b[0m\u001b[0;34m(\u001b[0m\u001b[0mdd3\u001b[0m\u001b[0;34m,\u001b[0m \u001b[0;34m'Run2_BCMS/output/output.mat'\u001b[0m\u001b[0;34m,\u001b[0m \u001b[0;34m'Run2 BCMS'\u001b[0m\u001b[0;34m)\u001b[0m\u001b[0;34m\u001b[0m\u001b[0m\n\u001b[1;32m      8\u001b[0m \u001b[0mdd3\u001b[0m \u001b[0;34m=\u001b[0m \u001b[0madd_input_file\u001b[0m\u001b[0;34m(\u001b[0m\u001b[0mdd3\u001b[0m\u001b[0;34m,\u001b[0m \u001b[0;34m'Run3_Standard_2021/output/output.mat'\u001b[0m\u001b[0;34m,\u001b[0m \u001b[0;34m'LIU Std 2021'\u001b[0m\u001b[0;34m)\u001b[0m\u001b[0;34m\u001b[0m\u001b[0m\n",
      "\u001b[0;32m<ipython-input-4-c29af6a872e7>\u001b[0m in \u001b[0;36madd_input_file\u001b[0;34m(dd, filename, label)\u001b[0m\n\u001b[1;32m      2\u001b[0m         \u001b[0mf\u001b[0m \u001b[0;34m=\u001b[0m \u001b[0mfilename\u001b[0m\u001b[0;34m\u001b[0m\u001b[0m\n\u001b[1;32m      3\u001b[0m         \u001b[0mp\u001b[0m \u001b[0;34m=\u001b[0m \u001b[0mdict\u001b[0m\u001b[0;34m(\u001b[0m\u001b[0;34m)\u001b[0m\u001b[0;34m\u001b[0m\u001b[0m\n\u001b[0;32m----> 4\u001b[0;31m         \u001b[0msio\u001b[0m\u001b[0;34m.\u001b[0m\u001b[0mloadmat\u001b[0m\u001b[0;34m(\u001b[0m\u001b[0mf\u001b[0m\u001b[0;34m,\u001b[0m \u001b[0mmdict\u001b[0m\u001b[0;34m=\u001b[0m\u001b[0mp\u001b[0m\u001b[0;34m)\u001b[0m\u001b[0;34m\u001b[0m\u001b[0m\n\u001b[0m\u001b[1;32m      5\u001b[0m         \u001b[0mdd\u001b[0m\u001b[0;34m[\u001b[0m\u001b[0mlabel\u001b[0m\u001b[0;34m]\u001b[0m \u001b[0;34m=\u001b[0m \u001b[0mp\u001b[0m\u001b[0;34m\u001b[0m\u001b[0m\n\u001b[1;32m      6\u001b[0m         \u001b[0;32mprint\u001b[0m \u001b[0;34m'\\tAdded output data from '\u001b[0m\u001b[0;34m,\u001b[0m \u001b[0mfilename\u001b[0m\u001b[0;34m,\u001b[0m \u001b[0;34m'\\t dictionary key: '\u001b[0m\u001b[0;34m,\u001b[0m \u001b[0mlabel\u001b[0m\u001b[0;34m\u001b[0m\u001b[0m\n",
      "\u001b[0;32m/usr/lib64/python2.7/site-packages/scipy/io/matlab/mio.pyc\u001b[0m in \u001b[0;36mloadmat\u001b[0;34m(file_name, mdict, appendmat, **kwargs)\u001b[0m\n\u001b[1;32m    139\u001b[0m     \"\"\"\n\u001b[1;32m    140\u001b[0m     \u001b[0mvariable_names\u001b[0m \u001b[0;34m=\u001b[0m \u001b[0mkwargs\u001b[0m\u001b[0;34m.\u001b[0m\u001b[0mpop\u001b[0m\u001b[0;34m(\u001b[0m\u001b[0;34m'variable_names'\u001b[0m\u001b[0;34m,\u001b[0m \u001b[0mNone\u001b[0m\u001b[0;34m)\u001b[0m\u001b[0;34m\u001b[0m\u001b[0m\n\u001b[0;32m--> 141\u001b[0;31m     \u001b[0mMR\u001b[0m\u001b[0;34m,\u001b[0m \u001b[0mfile_opened\u001b[0m \u001b[0;34m=\u001b[0m \u001b[0mmat_reader_factory\u001b[0m\u001b[0;34m(\u001b[0m\u001b[0mfile_name\u001b[0m\u001b[0;34m,\u001b[0m \u001b[0mappendmat\u001b[0m\u001b[0;34m,\u001b[0m \u001b[0;34m**\u001b[0m\u001b[0mkwargs\u001b[0m\u001b[0;34m)\u001b[0m\u001b[0;34m\u001b[0m\u001b[0m\n\u001b[0m\u001b[1;32m    142\u001b[0m     \u001b[0mmatfile_dict\u001b[0m \u001b[0;34m=\u001b[0m \u001b[0mMR\u001b[0m\u001b[0;34m.\u001b[0m\u001b[0mget_variables\u001b[0m\u001b[0;34m(\u001b[0m\u001b[0mvariable_names\u001b[0m\u001b[0;34m)\u001b[0m\u001b[0;34m\u001b[0m\u001b[0m\n\u001b[1;32m    143\u001b[0m     \u001b[0;32mif\u001b[0m \u001b[0mmdict\u001b[0m \u001b[0;32mis\u001b[0m \u001b[0;32mnot\u001b[0m \u001b[0mNone\u001b[0m\u001b[0;34m:\u001b[0m\u001b[0;34m\u001b[0m\u001b[0m\n",
      "\u001b[0;32m/usr/lib64/python2.7/site-packages/scipy/io/matlab/mio.pyc\u001b[0m in \u001b[0;36mmat_reader_factory\u001b[0;34m(file_name, appendmat, **kwargs)\u001b[0m\n\u001b[1;32m     62\u001b[0m \u001b[0;34m\u001b[0m\u001b[0m\n\u001b[1;32m     63\u001b[0m     \"\"\"\n\u001b[0;32m---> 64\u001b[0;31m     \u001b[0mbyte_stream\u001b[0m\u001b[0;34m,\u001b[0m \u001b[0mfile_opened\u001b[0m \u001b[0;34m=\u001b[0m \u001b[0m_open_file\u001b[0m\u001b[0;34m(\u001b[0m\u001b[0mfile_name\u001b[0m\u001b[0;34m,\u001b[0m \u001b[0mappendmat\u001b[0m\u001b[0;34m)\u001b[0m\u001b[0;34m\u001b[0m\u001b[0m\n\u001b[0m\u001b[1;32m     65\u001b[0m     \u001b[0mmjv\u001b[0m\u001b[0;34m,\u001b[0m \u001b[0mmnv\u001b[0m \u001b[0;34m=\u001b[0m \u001b[0mget_matfile_version\u001b[0m\u001b[0;34m(\u001b[0m\u001b[0mbyte_stream\u001b[0m\u001b[0;34m)\u001b[0m\u001b[0;34m\u001b[0m\u001b[0m\n\u001b[1;32m     66\u001b[0m     \u001b[0;32mif\u001b[0m \u001b[0mmjv\u001b[0m \u001b[0;34m==\u001b[0m \u001b[0;36m0\u001b[0m\u001b[0;34m:\u001b[0m\u001b[0;34m\u001b[0m\u001b[0m\n",
      "\u001b[0;31mTypeError\u001b[0m: 'NoneType' object is not iterable"
     ]
    }
   ],
   "source": [
    "#Horizontal Scan No Space Charge\n",
    "\n",
    "# Create dd dictionary\n",
    "dd3 = dict()\n",
    "\n",
    "dd3 = add_input_file(dd3, 'Run2_Standard/output/output.mat', 'Run2 Std')\n",
    "dd3 = add_input_file(dd3, 'Run2_BCMS/output/output.mat', 'Run2 BCMS')\n",
    "dd3 = add_input_file(dd3, 'Run3_Standard_2021/output/output.mat', 'LIU Std 2021')\n",
    "dd3 = add_input_file(dd3, 'Run3_Standard_2022/output/output.mat', 'LIU Std 2022')\n",
    "dd3 = add_input_file(dd3, 'Run3_Standard_2023/output/output.mat', 'LIU Std 2023')\n",
    "dd3 = add_input_file(dd3, 'Run3_BCMS/output/output.mat', 'LIU BCMS')"
   ]
  },
  {
   "cell_type": "markdown",
   "metadata": {},
   "source": [
    "### Plot Parameters"
   ]
  },
  {
   "cell_type": "code",
   "execution_count": null,
   "metadata": {},
   "outputs": [],
   "source": [
    "save_folder = 'Plots/'\n",
    "\n",
    "sc = 'SbS'\n",
    "legend_label = 'Case' # r'$\\frac{\\delta p}{p_0}$'\n",
    "main_label = 'PS_Bunchlength_Check'\n",
    "main_label2 = main_label + '_zoom'\n",
    "scaled_label = main_label + '_scaled'\n",
    "turn_tot = 2200\n",
    "zoom_turns = 50\n",
    "betagamma = 2.492104532 * 0.9159915293879255"
   ]
  },
  {
   "cell_type": "code",
   "execution_count": null,
   "metadata": {
    "scrolled": true
   },
   "outputs": [],
   "source": [
    "dd3['Run2 Std'].keys()"
   ]
  },
  {
   "cell_type": "code",
   "execution_count": null,
   "metadata": {},
   "outputs": [],
   "source": [
    "parameter = 'intensity'\n",
    "\n",
    "fig1 = plt.figure(facecolor='w', edgecolor='k')\n",
    "ax1 = fig1.add_subplot(111)\n",
    "\n",
    "tit = main_label + ' ' + sc + ' ' + parameter\n",
    "ax1.set_title(tit);\n",
    "\n",
    "ax1.set_ylabel('I [protons]');\n",
    "ax1.set_xlabel('Turn [-]');\n",
    "\n",
    "colors = cm.rainbow(np.linspace(0, 1, len(dd3.keys())))\n",
    "c_it = int(0)\n",
    "\n",
    "for key, value in sorted(dd3.iteritems()):\n",
    "        ax1.plot(dd3[key]['turn'][0], dd3[key][parameter][0]*1000, label=key, color=colors[c_it]);\n",
    "        c_it = c_it + 1;\n",
    "        \n",
    "ax1.legend(loc=1)\n",
    "ax1.grid(lw=1, ls=':');\n",
    "ax1.set_xlim(-1,turn_tot)\n",
    "\n",
    "savename = save_folder + '/'+ main_label + '_' + parameter + '.png'\n",
    "plt.savefig(savename, dpi = 800);"
   ]
  },
  {
   "cell_type": "code",
   "execution_count": null,
   "metadata": {},
   "outputs": [],
   "source": [
    "parameter = 'n_mp'\n",
    "\n",
    "fig1 = plt.figure(facecolor='w', edgecolor='k')\n",
    "ax1 = fig1.add_subplot(111)\n",
    "\n",
    "tit = main_label + ' ' + sc + ' ' + parameter\n",
    "ax1.set_title(tit);\n",
    "\n",
    "ax1.set_ylabel(r'$N_{macroparticles}$ [-]');\n",
    "ax1.set_xlabel('Turn [-]');\n",
    "\n",
    "colors = cm.rainbow(np.linspace(0, 1, len(dd3.keys())))\n",
    "c_it = int(0)\n",
    "\n",
    "for key, value in sorted(dd3.iteritems()):\n",
    "        ax1.plot(dd3[key]['turn'][0], dd3[key][parameter][0]*1000, label=key, color=colors[c_it]);\n",
    "        c_it = c_it + 1;\n",
    "        \n",
    "ax1.legend(loc=1)\n",
    "ax1.grid(lw=1, ls=':');\n",
    "ax1.set_xlim(-1,turn_tot)\n",
    "\n",
    "savename = save_folder + '/'+ main_label + '_' + parameter + '.png'\n",
    "plt.savefig(savename, dpi = 800);"
   ]
  },
  {
   "cell_type": "code",
   "execution_count": null,
   "metadata": {},
   "outputs": [],
   "source": [
    "parameter = 'sig_x'\n",
    "\n",
    "fig1 = plt.figure(facecolor='w', edgecolor='k')\n",
    "ax1 = fig1.add_subplot(111)\n",
    "\n",
    "tit = main_label + ' ' + sc + ' ' + parameter\n",
    "ax1.set_title(tit);\n",
    "\n",
    "ax1.set_ylabel(r'$\\sigma_x$ [mm]');\n",
    "ax1.set_xlabel('Turn [-]');\n",
    "\n",
    "colors = cm.rainbow(np.linspace(0, 1, len(dd3.keys())))\n",
    "c_it = int(0)\n",
    "\n",
    "for key, value in sorted(dd3.iteritems()):\n",
    "        ax1.plot(dd3[key]['turn'][0], dd3[key][parameter][0]*1000, label=key, color=colors[c_it]);\n",
    "        c_it = c_it + 1;\n",
    "        \n",
    "ax1.legend(loc=1)\n",
    "ax1.grid(lw=1, ls=':');\n",
    "ax1.set_xlim(-1,turn_tot)\n",
    "\n",
    "savename = save_folder + '/'+ main_label + '_' + parameter + '.png'\n",
    "plt.savefig(savename, dpi = 800);"
   ]
  },
  {
   "cell_type": "code",
   "execution_count": null,
   "metadata": {},
   "outputs": [],
   "source": [
    "parameter = 'sig_y'\n",
    "\n",
    "fig1 = plt.figure(facecolor='w', edgecolor='k')\n",
    "ax1 = fig1.add_subplot(111)\n",
    "\n",
    "tit = main_label + ' ' + sc + ' ' + parameter\n",
    "ax1.set_title(tit);\n",
    "\n",
    "ax1.set_ylabel(r'$\\sigma_y$ [mm]');\n",
    "ax1.set_xlabel('Turn [-]');\n",
    "\n",
    "colors = cm.rainbow(np.linspace(0, 1, len(dd3.keys())))\n",
    "c_it = int(0)\n",
    "\n",
    "for key, value in sorted(dd3.iteritems()):\n",
    "        ax1.plot(dd3[key]['turn'][0], dd3[key][parameter][0]*1000, label=key, color=colors[c_it]);\n",
    "        c_it = c_it + 1;\n",
    "        \n",
    "ax1.legend(loc=1)\n",
    "ax1.grid(lw=1, ls=':');\n",
    "ax1.set_xlim(-1,turn_tot)\n",
    "\n",
    "savename = save_folder + '/'+ main_label + '_' + parameter + '.png'\n",
    "plt.savefig(savename, dpi = 800);"
   ]
  },
  {
   "cell_type": "code",
   "execution_count": null,
   "metadata": {},
   "outputs": [],
   "source": [
    "parameter = 'dpp_rms'\n",
    "\n",
    "fig1 = plt.figure(facecolor='w', edgecolor='k')\n",
    "ax1 = fig1.add_subplot(111)\n",
    "\n",
    "tit = main_label + ' ' + sc + ' ' + parameter\n",
    "ax1.set_title(tit);\n",
    "\n",
    "ax1.set_ylabel(r'$\\frac{\\delta p}{p_0}_{RMS}$ [MeV]');\n",
    "ax1.set_xlabel('Turn [-]');\n",
    "\n",
    "colors = cm.rainbow(np.linspace(0, 1, len(dd3.keys())))\n",
    "c_it = int(0)\n",
    "\n",
    "for key, value in sorted(dd3.iteritems()):\n",
    "        ax1.plot(dd3[key]['turn'][0], dd3[key][parameter][0]*1E3, label=key, color=colors[c_it]);\n",
    "        c_it = c_it + 1;\n",
    "        \n",
    "ax1.legend(loc=1);\n",
    "ax1.grid(lw=1, ls=':');\n",
    "ax1.set_xlim(-1,turn_tot)\n",
    "\n",
    "savename = save_folder + '/'+ main_label + '_' + parameter + '.png'\n",
    "plt.savefig(savename, dpi = 800);"
   ]
  },
  {
   "cell_type": "code",
   "execution_count": null,
   "metadata": {},
   "outputs": [],
   "source": [
    "parameter = 'bunchlength'\n",
    "multi1 = 1E9\n",
    "\n",
    "fig1 = plt.figure(facecolor='w', edgecolor='k')\n",
    "ax1 = fig1.add_subplot(111)\n",
    "\n",
    "tit = main_label + ' ' + sc + ' ' + parameter\n",
    "ax1.set_title(tit);\n",
    "\n",
    "ax1.set_ylabel(r'$B_l$ [ns]');\n",
    "ax1.set_xlabel('Turn [-]');\n",
    "\n",
    "colors = cm.rainbow(np.linspace(0, 1, len(dd3.keys())))\n",
    "c_it = int(0)\n",
    "\n",
    "for key, value in sorted(dd3.iteritems()):  \n",
    "        av_ = np.mean(dd3[key][parameter][0][-100]*multi1)\n",
    "        rang_ = np.abs(np.max(dd3[key][parameter][0]*multi1) - np.min(dd3[key][parameter][0]*multi1))\n",
    "        print key, 'Average ', parameter, ' = ' , \\\n",
    "        str(round_sig(av_)), ' range = ', round_sig(rang_), ' = ', round_sig(rang_/av_)*100, '%'    \n",
    "        lab_ = key + ' ' + str(round_sig(rang_,3)) + ' ns'           \n",
    "        ax1.plot(dd3[key]['turn'][0], dd3[key][parameter][0]*multi1, label=lab_, color=colors[c_it]);\n",
    "        c_it = c_it + 1;\n",
    "        \n",
    "ax1.legend(loc=1);\n",
    "ax1.grid(lw=1, ls=':');\n",
    "ax1.set_xlim(-1,turn_tot)\n",
    "\n",
    "savename = save_folder + '/'+ main_label + '_' + parameter + '.png'\n",
    "plt.savefig(savename, dpi = 800);"
   ]
  },
  {
   "cell_type": "code",
   "execution_count": null,
   "metadata": {},
   "outputs": [],
   "source": [
    "parameter = 'beta_x'\n",
    "\n",
    "fig1 = plt.figure(facecolor='w', edgecolor='k')\n",
    "ax1 = fig1.add_subplot(111)\n",
    "\n",
    "tit = main_label + ' ' + sc + ' ' + parameter\n",
    "ax1.set_title(tit);\n",
    "\n",
    "ax1.set_ylabel(r'$\\beta_{x}$ [m]');\n",
    "ax1.set_xlabel('Turn [-]');\n",
    "\n",
    "colors = cm.rainbow(np.linspace(0, 1, len(dd3.keys())))\n",
    "c_it = int(0)\n",
    "\n",
    "for key, value in sorted(dd3.iteritems()):\n",
    "        ax1.plot(dd3[key]['turn'][0], dd3[key][parameter][0], label=key, color=colors[c_it]);\n",
    "        c_it = c_it + 1;\n",
    "        \n",
    "ax1.legend(loc=1);\n",
    "ax1.grid(lw=1, ls=':');\n",
    "ax1.set_xlim(-1,turn_tot)\n",
    "\n",
    "savename = save_folder + '/'+ main_label + '_' + parameter + '.png'\n",
    "plt.savefig(savename, dpi = 800);"
   ]
  },
  {
   "cell_type": "code",
   "execution_count": null,
   "metadata": {},
   "outputs": [],
   "source": [
    "parameter = 'beta_y'\n",
    "\n",
    "fig1 = plt.figure(facecolor='w', edgecolor='k')\n",
    "ax1 = fig1.add_subplot(111)\n",
    "\n",
    "tit = main_label + ' ' + sc + ' ' + parameter\n",
    "ax1.set_title(tit);\n",
    "\n",
    "ax1.set_ylabel(r'$\\beta_{x}$ [m]');\n",
    "ax1.set_xlabel('Turn [-]');\n",
    "\n",
    "colors = cm.rainbow(np.linspace(0, 1, len(dd3.keys())))\n",
    "c_it = int(0)\n",
    "\n",
    "for key, value in sorted(dd3.iteritems()):\n",
    "        ax1.plot(dd3[key]['turn'][0], dd3[key][parameter][0], label=key, color=colors[c_it]);\n",
    "        c_it = c_it + 1;\n",
    "        \n",
    "ax1.legend(loc=1);\n",
    "ax1.grid(lw=1, ls=':');\n",
    "ax1.set_xlim(-1,turn_tot)\n",
    "\n",
    "savename = save_folder + '/'+ main_label + '_' + parameter + '.png'\n",
    "plt.savefig(savename, dpi = 800);"
   ]
  },
  {
   "cell_type": "code",
   "execution_count": null,
   "metadata": {},
   "outputs": [],
   "source": [
    "parameter = 'epsn_x'\n",
    "\n",
    "fig1 = plt.figure(facecolor='w', edgecolor='k')\n",
    "ax1 = fig1.add_subplot(111)\n",
    "\n",
    "tit = main_label + ' ' + sc + ' ' + parameter\n",
    "ax1.set_title(tit);\n",
    "\n",
    "ax1.set_ylabel(r'$\\epsilon_{x_{RMS}}$ [mm mrad]');\n",
    "ax1.set_xlabel('Turn [-]');\n",
    "\n",
    "colors = cm.rainbow(np.linspace(0, 1, len(dd3.keys())))\n",
    "c_it = int(0)\n",
    "\n",
    "for key, value in sorted(dd3.iteritems()):\n",
    "        ax1.plot(dd3[key]['turn'][0], dd3[key][parameter][0]*1E6, label=key, color=colors[c_it]);\n",
    "        av_ = np.mean(dd3[key][parameter][0][-100]*multi1)\n",
    "        rang_ = np.abs(np.max(dd3[key][parameter][0]*multi1) - np.min(dd3[key][parameter][0]*multi1))\n",
    "        print key, 'Average ', parameter, ' = ' , \\\n",
    "        str(round_sig(av_)), ' range = ', round_sig(rang_), ' = ', round_sig(rang_/av_)*100, '%'    \n",
    "        c_it = c_it + 1;\n",
    "        \n",
    "ax1.legend(loc=1);\n",
    "ax1.grid(lw=1, ls=':');\n",
    "ax1.set_xlim(-1,turn_tot)\n",
    "\n",
    "savename = save_folder + '/'+ main_label + '_' + parameter + '.png'\n",
    "plt.savefig(savename, dpi = 800);"
   ]
  },
  {
   "cell_type": "code",
   "execution_count": null,
   "metadata": {},
   "outputs": [],
   "source": [
    "parameter = 'epsn_y'\n",
    "\n",
    "fig1 = plt.figure(facecolor='w', edgecolor='k')\n",
    "ax1 = fig1.add_subplot(111)\n",
    "\n",
    "tit = main_label + ' ' + sc + ' ' + parameter\n",
    "ax1.set_title(tit);\n",
    "\n",
    "ax1.set_ylabel(r'$\\epsilon_{y_{RMS}}$ [mm mrad]');\n",
    "ax1.set_xlabel('Turn [-]');\n",
    "\n",
    "colors = cm.rainbow(np.linspace(0, 1, len(dd3.keys())))\n",
    "c_it = int(0)\n",
    "\n",
    "for key, value in sorted(dd3.iteritems()):\n",
    "        ax1.plot(dd3[key]['turn'][0], dd3[key][parameter][0]*1E6, label=key, color=colors[c_it]);\n",
    "        av_ = np.mean(dd3[key][parameter][0][-100]*multi1)\n",
    "        rang_ = np.abs(np.max(dd3[key][parameter][0]*multi1) - np.min(dd3[key][parameter][0]*multi1))\n",
    "        print key, 'Average ', parameter, ' = ' , \\\n",
    "        str(round_sig(av_)), ' range = ', round_sig(rang_), ' = ', round_sig(rang_/av_)*100, '%'    \n",
    "        c_it = c_it + 1;\n",
    "        \n",
    "ax1.legend(loc=1);\n",
    "ax1.grid(lw=1, ls=':');\n",
    "ax1.set_xlim(-1,turn_tot)\n",
    "\n",
    "savename = save_folder + '/'+ main_label + '_' + parameter + '.png'\n",
    "plt.savefig(savename, dpi = 800);"
   ]
  },
  {
   "cell_type": "code",
   "execution_count": null,
   "metadata": {},
   "outputs": [],
   "source": [
    "parameter = 'D_x'\n",
    "\n",
    "fig1 = plt.figure(facecolor='w', edgecolor='k')\n",
    "ax1 = fig1.add_subplot(111)\n",
    "\n",
    "tit = main_label + ' ' + sc + ' ' + parameter\n",
    "ax1.set_title(tit);\n",
    "\n",
    "ax1.set_ylabel(r'$D_{x}$ [m]');\n",
    "ax1.set_xlabel('Turn [-]');\n",
    "\n",
    "colors = cm.rainbow(np.linspace(0, 1, len(dd3.keys())))\n",
    "c_it = int(0)\n",
    "\n",
    "for key, value in sorted(dd3.iteritems()):\n",
    "        ax1.plot(dd3[key]['turn'][0], dd3[key][parameter][0], label=key, color=colors[c_it]);\n",
    "        c_it = c_it + 1;\n",
    "        \n",
    "ax1.legend(loc=1);\n",
    "ax1.grid(lw=1, ls=':');\n",
    "ax1.set_xlim(-1,turn_tot)\n",
    "\n",
    "savename = save_folder + '/'+ main_label + '_' + parameter + '.png'\n",
    "plt.savefig(savename, dpi = 800);"
   ]
  },
  {
   "cell_type": "code",
   "execution_count": null,
   "metadata": {},
   "outputs": [],
   "source": [
    "parameter = 'D_y'\n",
    "\n",
    "fig1 = plt.figure(facecolor='w', edgecolor='k')\n",
    "ax1 = fig1.add_subplot(111)\n",
    "\n",
    "tit = main_label + ' ' + sc + ' ' + parameter\n",
    "ax1.set_title(tit);\n",
    "\n",
    "ax1.set_ylabel(r'$D_{y}$ [m]');\n",
    "ax1.set_xlabel('Turn [-]');\n",
    "\n",
    "colors = cm.rainbow(np.linspace(0, 1, len(dd3.keys())))\n",
    "c_it = int(0)\n",
    "\n",
    "for key, value in sorted(dd3.iteritems()):\n",
    "        ax1.plot(dd3[key]['turn'][0], dd3[key][parameter][0], label=key, color=colors[c_it]);\n",
    "        c_it = c_it + 1;\n",
    "        \n",
    "ax1.legend(loc=1);\n",
    "ax1.grid(lw=1, ls=':');\n",
    "ax1.set_xlim(-1,turn_tot)\n",
    "\n",
    "savename = save_folder + '/'+ main_label + '_' + parameter + '.png'\n",
    "plt.savefig(savename, dpi = 800);"
   ]
  },
  {
   "cell_type": "markdown",
   "metadata": {},
   "source": [
    "# Compare individual cases"
   ]
  },
  {
   "cell_type": "markdown",
   "metadata": {},
   "source": [
    "## Run2 Standard"
   ]
  },
  {
   "cell_type": "code",
   "execution_count": null,
   "metadata": {},
   "outputs": [],
   "source": [
    "# Create dd dictionary\n",
    "dd = dict()\n",
    "\n",
    "run_lab = 'Run2_Std'\n",
    "\n",
    "dd = add_input_file(dd, 'Run2_Standard/output/output.mat', 'Run2 Std')\n",
    "dd = add_input_file(dd, '../19_SC_Mini/Run2_Standard/output/output.mat', 'Run2 Std Old')"
   ]
  },
  {
   "cell_type": "code",
   "execution_count": null,
   "metadata": {},
   "outputs": [],
   "source": [
    "parameter = 'bunchlength'\n",
    "multi1 = 1E9\n",
    "\n",
    "fig1 = plt.figure(facecolor='w', edgecolor='k')\n",
    "ax1 = fig1.add_subplot(111)\n",
    "\n",
    "tit = main_label + ' ' + sc + ' ' + parameter\n",
    "ax1.set_title(tit);\n",
    "\n",
    "ax1.set_ylabel(r'$B_l$ [ns]');\n",
    "ax1.set_xlabel('Turn [-]');\n",
    "\n",
    "colors = cm.rainbow(np.linspace(0, 1, len(dd.keys())))\n",
    "c_it = int(0)\n",
    "\n",
    "for key, value in sorted(dd.iteritems()):\n",
    "        av_ = np.mean(dd[key][parameter][0][-100]*multi1)\n",
    "        rang_ = np.abs(np.max(dd[key][parameter][0]*multi1) - np.min(dd[key][parameter][0]*multi1))\n",
    "        print key, 'Average ', parameter, ' = ' , \\\n",
    "        str(round_sig(av_)), ' range = ', round_sig(rang_), ' = ', round_sig(rang_/av_)*100, '%' \n",
    "        lab_ = key + ' ' + str(round_sig(rang_,3)) + ' ns'\n",
    "        ax1.plot(dd[key]['turn'][0], dd[key][parameter][0]*multi1, label=lab_, color=colors[c_it]);\n",
    "   \n",
    "        c_it = c_it + 1;\n",
    "        \n",
    "ax1.legend(loc=1);\n",
    "ax1.grid(lw=1, ls=':');\n",
    "ax1.set_xlim(-1,turn_tot)\n",
    "\n",
    "savename = save_folder + '/'+ run_lab + '_' + parameter + '.png'\n",
    "plt.savefig(savename, dpi = 800);"
   ]
  },
  {
   "cell_type": "markdown",
   "metadata": {},
   "source": [
    "## Run 2 BCMS"
   ]
  },
  {
   "cell_type": "code",
   "execution_count": null,
   "metadata": {},
   "outputs": [],
   "source": [
    "# Create dd dictionary\n",
    "dd = dict()\n",
    "run_lab = 'Run2_BCMS'\n",
    "dd = add_input_file(dd, 'Run2_BCMS/output/output.mat', 'Run2 BCMS')\n",
    "dd = add_input_file(dd, '../19_SC_Mini/Run2_BCMS/output/output.mat', 'Run2 BCMS Old')"
   ]
  },
  {
   "cell_type": "code",
   "execution_count": null,
   "metadata": {},
   "outputs": [],
   "source": [
    "parameter = 'bunchlength'\n",
    "multi1 = 1E9\n",
    "\n",
    "fig1 = plt.figure(facecolor='w', edgecolor='k')\n",
    "ax1 = fig1.add_subplot(111)\n",
    "\n",
    "tit = main_label + ' ' + sc + ' ' + parameter\n",
    "ax1.set_title(tit);\n",
    "\n",
    "ax1.set_ylabel(r'$B_l$ [ns]');\n",
    "ax1.set_xlabel('Turn [-]');\n",
    "\n",
    "colors = cm.rainbow(np.linspace(0, 1, len(dd.keys())))\n",
    "c_it = int(0)\n",
    "\n",
    "for key, value in sorted(dd.iteritems()):\n",
    "        av_ = np.mean(dd[key][parameter][0][-100]*multi1)\n",
    "        rang_ = np.abs(np.max(dd[key][parameter][0]*multi1) - np.min(dd[key][parameter][0]*multi1))\n",
    "        print key, 'Average ', parameter, ' = ' , \\\n",
    "        str(round_sig(av_)), ' range = ', round_sig(rang_), ' = ', round_sig(rang_/av_)*100, '%' \n",
    "        lab_ = key + ' ' + str(round_sig(rang_,3)) + ' ns'\n",
    "        ax1.plot(dd[key]['turn'][0], dd[key][parameter][0]*multi1, label=lab_, color=colors[c_it]);\n",
    "   \n",
    "        c_it = c_it + 1;\n",
    "        \n",
    "ax1.legend(loc=1);\n",
    "ax1.grid(lw=1, ls=':');\n",
    "ax1.set_xlim(-1,turn_tot)\n",
    "\n",
    "savename = save_folder + '/'+ run_lab + '_' + parameter + '.png'\n",
    "plt.savefig(savename, dpi = 800);"
   ]
  },
  {
   "cell_type": "markdown",
   "metadata": {},
   "source": [
    "## Run 3 BCMS"
   ]
  },
  {
   "cell_type": "code",
   "execution_count": null,
   "metadata": {},
   "outputs": [],
   "source": [
    "# Create dd dictionary\n",
    "dd = dict()\n",
    "run_lab = 'Run3_BCMS'\n",
    "dd = add_input_file(dd, 'Run3_BCMS/output/output.mat', 'Run3 BCMS')\n",
    "dd = add_input_file(dd, '../19_SC_Mini/Run3_BCMS/output/output.mat', 'Run3 BCMS Old')"
   ]
  },
  {
   "cell_type": "code",
   "execution_count": null,
   "metadata": {},
   "outputs": [],
   "source": [
    "parameter = 'bunchlength'\n",
    "multi1 = 1E9\n",
    "\n",
    "fig1 = plt.figure(facecolor='w', edgecolor='k')\n",
    "ax1 = fig1.add_subplot(111)\n",
    "\n",
    "tit = main_label + ' ' + sc + ' ' + parameter\n",
    "ax1.set_title(tit);\n",
    "\n",
    "ax1.set_ylabel(r'$B_l$ [ns]');\n",
    "ax1.set_xlabel('Turn [-]');\n",
    "\n",
    "colors = cm.rainbow(np.linspace(0, 1, len(dd.keys())))\n",
    "c_it = int(0)\n",
    "\n",
    "for key, value in sorted(dd.iteritems()):\n",
    "        av_ = np.mean(dd[key][parameter][0][-100]*multi1)\n",
    "        rang_ = np.abs(np.max(dd[key][parameter][0]*multi1) - np.min(dd[key][parameter][0]*multi1))\n",
    "        print key, 'Average ', parameter, ' = ' , \\\n",
    "        str(round_sig(av_)), ' range = ', round_sig(rang_), ' = ', round_sig(rang_/av_)*100, '%' \n",
    "        lab_ = key + ' ' + str(round_sig(rang_,3)) + ' ns'\n",
    "        ax1.plot(dd[key]['turn'][0], dd[key][parameter][0]*multi1, label=lab_, color=colors[c_it]);\n",
    "   \n",
    "        c_it = c_it + 1;\n",
    "        \n",
    "ax1.legend(loc=1);\n",
    "ax1.grid(lw=1, ls=':');\n",
    "ax1.set_xlim(-1,turn_tot)\n",
    "\n",
    "savename = save_folder + '/'+ run_lab + '_' + parameter + '.png'\n",
    "plt.savefig(savename, dpi = 800);"
   ]
  },
  {
   "cell_type": "markdown",
   "metadata": {},
   "source": [
    "# Run 3 Std 2021"
   ]
  },
  {
   "cell_type": "code",
   "execution_count": null,
   "metadata": {},
   "outputs": [],
   "source": [
    "# Create dd dictionary\n",
    "dd = dict()\n",
    "run_lab = 'Run3_Std_2021'\n",
    "dd = add_input_file(dd, 'Run3_Standard_2021/output/output.mat', 'Run3 Std 2021')\n",
    "dd = add_input_file(dd, '../19_SC_Mini/Run3_Standard_2021/output/output.mat', 'Run3 Std 2021 Old')"
   ]
  },
  {
   "cell_type": "code",
   "execution_count": null,
   "metadata": {},
   "outputs": [],
   "source": [
    "parameter = 'bunchlength'\n",
    "multi1 = 1E9\n",
    "\n",
    "fig1 = plt.figure(facecolor='w', edgecolor='k')\n",
    "ax1 = fig1.add_subplot(111)\n",
    "\n",
    "tit = main_label + ' ' + sc + ' ' + parameter\n",
    "ax1.set_title(tit);\n",
    "\n",
    "ax1.set_ylabel(r'$B_l$ [ns]');\n",
    "ax1.set_xlabel('Turn [-]');\n",
    "\n",
    "colors = cm.rainbow(np.linspace(0, 1, len(dd.keys())))\n",
    "c_it = int(0)\n",
    "\n",
    "for key, value in sorted(dd.iteritems()):\n",
    "        av_ = np.mean(dd[key][parameter][0][-100]*multi1)\n",
    "        rang_ = np.abs(np.max(dd[key][parameter][0]*multi1) - np.min(dd[key][parameter][0]*multi1))\n",
    "        print key, 'Average ', parameter, ' = ' , \\\n",
    "        str(round_sig(av_)), ' range = ', round_sig(rang_), ' = ', round_sig(rang_/av_)*100, '%' \n",
    "        lab_ = key + ' ' + str(round_sig(rang_,3)) + ' ns'\n",
    "        ax1.plot(dd[key]['turn'][0], dd[key][parameter][0]*multi1, label=lab_, color=colors[c_it]);\n",
    "   \n",
    "        c_it = c_it + 1;\n",
    "        \n",
    "ax1.legend(loc=1);\n",
    "ax1.grid(lw=1, ls=':');\n",
    "ax1.set_xlim(-1,turn_tot)\n",
    "\n",
    "savename = save_folder + '/'+ run_lab + '_' + parameter + '.png'\n",
    "plt.savefig(savename, dpi = 800);"
   ]
  },
  {
   "cell_type": "markdown",
   "metadata": {},
   "source": [
    "# Run 3 Std 2022"
   ]
  },
  {
   "cell_type": "code",
   "execution_count": null,
   "metadata": {},
   "outputs": [],
   "source": [
    "# Create dd dictionary\n",
    "dd = dict()\n",
    "run_lab = 'Run3_Std_2022'\n",
    "dd = add_input_file(dd, 'Run3_Standard_2022/output/output.mat', 'Run3 Std 2022')\n",
    "dd = add_input_file(dd, '../19_SC_Mini/Run3_Standard_2022/output/output.mat', 'Run3 Std 2022 Old')"
   ]
  },
  {
   "cell_type": "code",
   "execution_count": null,
   "metadata": {},
   "outputs": [],
   "source": [
    "parameter = 'bunchlength'\n",
    "multi1 = 1E9\n",
    "\n",
    "fig1 = plt.figure(facecolor='w', edgecolor='k')\n",
    "ax1 = fig1.add_subplot(111)\n",
    "\n",
    "tit = main_label + ' ' + sc + ' ' + parameter\n",
    "ax1.set_title(tit);\n",
    "\n",
    "ax1.set_ylabel(r'$B_l$ [ns]');\n",
    "ax1.set_xlabel('Turn [-]');\n",
    "\n",
    "colors = cm.rainbow(np.linspace(0, 1, len(dd.keys())))\n",
    "c_it = int(0)\n",
    "\n",
    "for key, value in sorted(dd.iteritems()):\n",
    "        av_ = np.mean(dd[key][parameter][0][-100]*multi1)\n",
    "        rang_ = np.abs(np.max(dd[key][parameter][0]*multi1) - np.min(dd[key][parameter][0]*multi1))\n",
    "        print key, 'Average ', parameter, ' = ' , \\\n",
    "        str(round_sig(av_)), ' range = ', round_sig(rang_), ' = ', round_sig(rang_/av_)*100, '%' \n",
    "        lab_ = key + ' ' + str(round_sig(rang_,3)) + ' ns'\n",
    "        ax1.plot(dd[key]['turn'][0], dd[key][parameter][0]*multi1, label=lab_, color=colors[c_it]);\n",
    "   \n",
    "        c_it = c_it + 1;\n",
    "        \n",
    "ax1.legend(loc=1);\n",
    "ax1.grid(lw=1, ls=':');\n",
    "ax1.set_xlim(-1,turn_tot)\n",
    "\n",
    "savename = save_folder + '/'+ run_lab + '_' + parameter + '.png'\n",
    "plt.savefig(savename, dpi = 800);"
   ]
  },
  {
   "cell_type": "markdown",
   "metadata": {},
   "source": [
    "# Run 3 Std 2023"
   ]
  },
  {
   "cell_type": "code",
   "execution_count": null,
   "metadata": {},
   "outputs": [],
   "source": [
    "# Create dd dictionary\n",
    "dd = dict()\n",
    "run_lab = 'Run3_Std_2023'\n",
    "dd = add_input_file(dd, 'Run3_Standard_2023/output/output.mat', 'Run3 Std 2023')\n",
    "dd = add_input_file(dd, '../19_SC_Mini/Run3_Standard_2023/output/output.mat', 'Run3 Std 2023 Old')"
   ]
  },
  {
   "cell_type": "code",
   "execution_count": null,
   "metadata": {},
   "outputs": [],
   "source": [
    "parameter = 'bunchlength'\n",
    "multi1 = 1E9\n",
    "\n",
    "fig1 = plt.figure(facecolor='w', edgecolor='k')\n",
    "ax1 = fig1.add_subplot(111)\n",
    "\n",
    "tit = main_label + ' ' + sc + ' ' + parameter\n",
    "ax1.set_title(tit);\n",
    "\n",
    "ax1.set_ylabel(r'$B_l$ [ns]');\n",
    "ax1.set_xlabel('Turn [-]');\n",
    "\n",
    "colors = cm.rainbow(np.linspace(0, 1, len(dd.keys())))\n",
    "c_it = int(0)\n",
    "\n",
    "for key, value in sorted(dd.iteritems()):\n",
    "        av_ = np.mean(dd[key][parameter][0][-100]*multi1)\n",
    "        rang_ = np.abs(np.max(dd[key][parameter][0]*multi1) - np.min(dd[key][parameter][0]*multi1))\n",
    "        print key, 'Average ', parameter, ' = ' , \\\n",
    "        str(round_sig(av_)), ' range = ', round_sig(rang_), ' = ', round_sig(rang_/av_)*100, '%' \n",
    "        lab_ = key + ' ' + str(round_sig(rang_,3)) + ' ns'\n",
    "        ax1.plot(dd[key]['turn'][0], dd[key][parameter][0]*multi1, label=lab_, color=colors[c_it]);\n",
    "   \n",
    "        c_it = c_it + 1;\n",
    "        \n",
    "ax1.legend(loc=1);\n",
    "ax1.grid(lw=1, ls=':');\n",
    "ax1.set_xlim(-1,turn_tot)\n",
    "\n",
    "savename = save_folder + '/'+ run_lab + '_' + parameter + '.png'\n",
    "plt.savefig(savename, dpi = 800);"
   ]
  },
  {
   "cell_type": "code",
   "execution_count": null,
   "metadata": {},
   "outputs": [],
   "source": []
  },
  {
   "cell_type": "code",
   "execution_count": null,
   "metadata": {},
   "outputs": [],
   "source": []
  }
 ],
 "metadata": {
  "kernelspec": {
   "display_name": "Python 2",
   "language": "python",
   "name": "python2"
  },
  "language_info": {
   "codemirror_mode": {
    "name": "ipython",
    "version": 2
   },
   "file_extension": ".py",
   "mimetype": "text/x-python",
   "name": "python",
   "nbconvert_exporter": "python",
   "pygments_lexer": "ipython2",
   "version": "2.7.15"
  }
 },
 "nbformat": 4,
 "nbformat_minor": 2
}
